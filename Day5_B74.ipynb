{
 "cells": [
  {
   "cell_type": "code",
   "execution_count": null,
   "id": "065180af",
   "metadata": {},
   "outputs": [],
   "source": [
    "Working with the list datatype :"
   ]
  },
  {
   "cell_type": "code",
   "execution_count": null,
   "id": "f26fc7fe",
   "metadata": {},
   "outputs": [],
   "source": [
    "Organising the list datatype :"
   ]
  },
  {
   "cell_type": "code",
   "execution_count": null,
   "id": "e740cae1",
   "metadata": {},
   "outputs": [],
   "source": []
  },
  {
   "cell_type": "code",
   "execution_count": 1,
   "id": "f116563b",
   "metadata": {},
   "outputs": [],
   "source": [
    "cars = [\"kia\",\"benz\",\"maruthi\",\"honda\",\"bmw\",\"audi\"]"
   ]
  },
  {
   "cell_type": "code",
   "execution_count": null,
   "id": "5caae6b3",
   "metadata": {},
   "outputs": [],
   "source": []
  },
  {
   "cell_type": "code",
   "execution_count": null,
   "id": "35f79e07",
   "metadata": {},
   "outputs": [],
   "source": [
    "#req : I want to print the list in the alphabetical order -----> A - Z"
   ]
  },
  {
   "cell_type": "code",
   "execution_count": null,
   "id": "486c78c7",
   "metadata": {},
   "outputs": [],
   "source": [
    "Two approaches :\n",
    "    \n",
    "    1. temporary approach ====> sorted ===> we can maintain the original order of the list\n",
    "    \n",
    "    2. permanent approach ====> sort =====> changes are applied permanently"
   ]
  },
  {
   "cell_type": "code",
   "execution_count": null,
   "id": "4a08113d",
   "metadata": {},
   "outputs": [],
   "source": []
  },
  {
   "cell_type": "code",
   "execution_count": 2,
   "id": "d2c483a6",
   "metadata": {},
   "outputs": [
    {
     "name": "stdout",
     "output_type": "stream",
     "text": [
      "['audi', 'benz', 'bmw', 'honda', 'kia', 'maruthi']\n"
     ]
    }
   ],
   "source": [
    "print(sorted(cars))"
   ]
  },
  {
   "cell_type": "code",
   "execution_count": null,
   "id": "ceb7f8c7",
   "metadata": {},
   "outputs": [],
   "source": [
    "benz , bmw -------> B , B ====> e,m"
   ]
  },
  {
   "cell_type": "code",
   "execution_count": 3,
   "id": "93aac0f7",
   "metadata": {},
   "outputs": [
    {
     "name": "stdout",
     "output_type": "stream",
     "text": [
      "['kia', 'benz', 'maruthi', 'honda', 'bmw', 'audi']\n"
     ]
    }
   ],
   "source": [
    "print(cars) # This is the original order"
   ]
  },
  {
   "cell_type": "code",
   "execution_count": null,
   "id": "127ede47",
   "metadata": {},
   "outputs": [],
   "source": []
  },
  {
   "cell_type": "code",
   "execution_count": 5,
   "id": "bd0dc70a",
   "metadata": {},
   "outputs": [],
   "source": [
    "cars.sort()"
   ]
  },
  {
   "cell_type": "code",
   "execution_count": 6,
   "id": "f2fbd1c2",
   "metadata": {},
   "outputs": [
    {
     "name": "stdout",
     "output_type": "stream",
     "text": [
      "['audi', 'benz', 'bmw', 'honda', 'kia', 'maruthi']\n"
     ]
    }
   ],
   "source": [
    "print(cars)"
   ]
  },
  {
   "cell_type": "code",
   "execution_count": 7,
   "id": "9825cf37",
   "metadata": {},
   "outputs": [
    {
     "name": "stdout",
     "output_type": "stream",
     "text": [
      "['audi', 'benz', 'bmw', 'honda', 'kia', 'maruthi']\n"
     ]
    }
   ],
   "source": [
    "print(cars)"
   ]
  },
  {
   "cell_type": "code",
   "execution_count": null,
   "id": "767fcaaa",
   "metadata": {},
   "outputs": [],
   "source": [
    "***Interview Qn : What is the diff btw sorted and sort method in a list"
   ]
  },
  {
   "cell_type": "code",
   "execution_count": null,
   "id": "701c374a",
   "metadata": {},
   "outputs": [],
   "source": []
  },
  {
   "cell_type": "code",
   "execution_count": null,
   "id": "6d534478",
   "metadata": {},
   "outputs": [],
   "source": [
    "#req : I wnat to print the list in the reverse order"
   ]
  },
  {
   "cell_type": "code",
   "execution_count": 8,
   "id": "7c1ce752",
   "metadata": {},
   "outputs": [
    {
     "name": "stdout",
     "output_type": "stream",
     "text": [
      "['audi', 'benz', 'bmw', 'honda', 'kia', 'maruthi']\n"
     ]
    }
   ],
   "source": [
    "print(cars)"
   ]
  },
  {
   "cell_type": "code",
   "execution_count": 9,
   "id": "4d8de4a1",
   "metadata": {},
   "outputs": [],
   "source": [
    "cars.reverse()"
   ]
  },
  {
   "cell_type": "code",
   "execution_count": 10,
   "id": "59351841",
   "metadata": {},
   "outputs": [
    {
     "name": "stdout",
     "output_type": "stream",
     "text": [
      "['maruthi', 'kia', 'honda', 'bmw', 'benz', 'audi']\n"
     ]
    }
   ],
   "source": [
    "print(cars)"
   ]
  },
  {
   "cell_type": "code",
   "execution_count": null,
   "id": "37860323",
   "metadata": {},
   "outputs": [],
   "source": []
  },
  {
   "cell_type": "code",
   "execution_count": null,
   "id": "a120e934",
   "metadata": {},
   "outputs": [],
   "source": [
    "#req : I want to know the no. of elements in the lsit"
   ]
  },
  {
   "cell_type": "code",
   "execution_count": 11,
   "id": "a0c0454f",
   "metadata": {},
   "outputs": [
    {
     "data": {
      "text/plain": [
       "6"
      ]
     },
     "execution_count": 11,
     "metadata": {},
     "output_type": "execute_result"
    }
   ],
   "source": [
    "len(cars)"
   ]
  },
  {
   "cell_type": "code",
   "execution_count": null,
   "id": "240a4346",
   "metadata": {},
   "outputs": [],
   "source": []
  },
  {
   "cell_type": "code",
   "execution_count": null,
   "id": "b0a0d338",
   "metadata": {},
   "outputs": [],
   "source": [
    "Introduction to slicing :"
   ]
  },
  {
   "cell_type": "code",
   "execution_count": 12,
   "id": "6e641765",
   "metadata": {},
   "outputs": [],
   "source": [
    "students = [\"trinadh\",\"akhil\",\"ansari\",\"david\",\"sadhiya\",\"iqra\",\"divya\",\"swathi\"]"
   ]
  },
  {
   "cell_type": "code",
   "execution_count": 13,
   "id": "891ee062",
   "metadata": {},
   "outputs": [
    {
     "name": "stdout",
     "output_type": "stream",
     "text": [
      "['trinadh', 'akhil', 'ansari', 'david', 'sadhiya', 'iqra', 'divya', 'swathi']\n"
     ]
    }
   ],
   "source": [
    "print(students)"
   ]
  },
  {
   "cell_type": "code",
   "execution_count": 14,
   "id": "ecc915d8",
   "metadata": {},
   "outputs": [
    {
     "data": {
      "text/plain": [
       "list"
      ]
     },
     "execution_count": 14,
     "metadata": {},
     "output_type": "execute_result"
    }
   ],
   "source": [
    "type(students)"
   ]
  },
  {
   "cell_type": "code",
   "execution_count": null,
   "id": "5a199e64",
   "metadata": {},
   "outputs": [],
   "source": [
    "#General syntax of slicing"
   ]
  },
  {
   "cell_type": "code",
   "execution_count": null,
   "id": "c54c75f4",
   "metadata": {},
   "outputs": [],
   "source": [
    "[startvalue:stopvalue:stepcount]"
   ]
  },
  {
   "cell_type": "code",
   "execution_count": null,
   "id": "459a3ef7",
   "metadata": {},
   "outputs": [],
   "source": [
    "Note : Stop value is always exclusive to include we have to increment the index by +1"
   ]
  },
  {
   "cell_type": "code",
   "execution_count": null,
   "id": "cc4640ce",
   "metadata": {},
   "outputs": [],
   "source": []
  },
  {
   "cell_type": "code",
   "execution_count": null,
   "id": "7e91cd08",
   "metadata": {},
   "outputs": [],
   "source": [
    "#req : I want trinadh and akhil in the output"
   ]
  },
  {
   "cell_type": "code",
   "execution_count": 16,
   "id": "748a054e",
   "metadata": {},
   "outputs": [
    {
     "name": "stdout",
     "output_type": "stream",
     "text": [
      "['trinadh']\n"
     ]
    }
   ],
   "source": [
    "print(students[0:1])"
   ]
  },
  {
   "cell_type": "code",
   "execution_count": 17,
   "id": "16146f3d",
   "metadata": {},
   "outputs": [
    {
     "name": "stdout",
     "output_type": "stream",
     "text": [
      "['trinadh', 'akhil']\n"
     ]
    }
   ],
   "source": [
    "print(students[0:2])"
   ]
  },
  {
   "cell_type": "code",
   "execution_count": null,
   "id": "a7772f2f",
   "metadata": {},
   "outputs": [],
   "source": [
    "# ansari and david"
   ]
  },
  {
   "cell_type": "code",
   "execution_count": 18,
   "id": "1040c63f",
   "metadata": {},
   "outputs": [
    {
     "name": "stdout",
     "output_type": "stream",
     "text": [
      "['ansari', 'david']\n"
     ]
    }
   ],
   "source": [
    "print(students[2:4])"
   ]
  },
  {
   "cell_type": "code",
   "execution_count": null,
   "id": "5f401b97",
   "metadata": {},
   "outputs": [],
   "source": [
    "# divya and swathi"
   ]
  },
  {
   "cell_type": "code",
   "execution_count": 21,
   "id": "caf15240",
   "metadata": {},
   "outputs": [
    {
     "name": "stdout",
     "output_type": "stream",
     "text": [
      "['divya', 'swathi']\n"
     ]
    }
   ],
   "source": [
    "print(students[6:8])"
   ]
  },
  {
   "cell_type": "code",
   "execution_count": null,
   "id": "b9f3b1c1",
   "metadata": {},
   "outputs": [],
   "source": []
  },
  {
   "cell_type": "code",
   "execution_count": null,
   "id": "119cd7cf",
   "metadata": {},
   "outputs": [],
   "source": [
    "# What is the use of stepcount....?"
   ]
  },
  {
   "cell_type": "code",
   "execution_count": 22,
   "id": "ddfb578b",
   "metadata": {},
   "outputs": [
    {
     "name": "stdout",
     "output_type": "stream",
     "text": [
      "['trinadh', 'akhil', 'ansari', 'david', 'sadhiya', 'iqra', 'divya', 'swathi']\n"
     ]
    }
   ],
   "source": [
    "print(students)"
   ]
  },
  {
   "cell_type": "code",
   "execution_count": 23,
   "id": "bfc35552",
   "metadata": {},
   "outputs": [
    {
     "name": "stdout",
     "output_type": "stream",
     "text": [
      "['trinadh', 'ansari', 'sadhiya', 'divya']\n"
     ]
    }
   ],
   "source": [
    "print(students[0:8:2])"
   ]
  },
  {
   "cell_type": "code",
   "execution_count": null,
   "id": "08e16aee",
   "metadata": {},
   "outputs": [],
   "source": []
  }
 ],
 "metadata": {
  "kernelspec": {
   "display_name": "Python 3 (ipykernel)",
   "language": "python",
   "name": "python3"
  },
  "language_info": {
   "codemirror_mode": {
    "name": "ipython",
    "version": 3
   },
   "file_extension": ".py",
   "mimetype": "text/x-python",
   "name": "python",
   "nbconvert_exporter": "python",
   "pygments_lexer": "ipython3",
   "version": "3.9.13"
  }
 },
 "nbformat": 4,
 "nbformat_minor": 5
}
