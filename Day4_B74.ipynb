{
 "cells": [
  {
   "cell_type": "code",
   "execution_count": null,
   "id": "54fab652",
   "metadata": {},
   "outputs": [],
   "source": [
    "Introduction to list datatype :\n",
    "    \n",
    "    Definition :  A list is a collection of items declared in a particular order.\n",
    "        \n",
    "    Classificaton : It is classified as mutable datatype.\n",
    "        \n",
    "how to declare the list datatype..........? ====> []"
   ]
  },
  {
   "cell_type": "code",
   "execution_count": null,
   "id": "4363a1f1",
   "metadata": {},
   "outputs": [],
   "source": []
  },
  {
   "cell_type": "code",
   "execution_count": 2,
   "id": "d476c4e9",
   "metadata": {},
   "outputs": [],
   "source": [
    "students = [\"ravi\",\"divya\",\"sadhiya\",\"naveen\",\"ahmed\",\"suresh\"] # 0,1,2,3,4,5"
   ]
  },
  {
   "cell_type": "code",
   "execution_count": 3,
   "id": "ba234ed7",
   "metadata": {},
   "outputs": [
    {
     "name": "stdout",
     "output_type": "stream",
     "text": [
      "['ravi', 'divya', 'sadhiya', 'naveen', 'ahmed', 'suresh']\n"
     ]
    }
   ],
   "source": [
    "print(students)"
   ]
  },
  {
   "cell_type": "code",
   "execution_count": 4,
   "id": "a20e8e5d",
   "metadata": {},
   "outputs": [
    {
     "data": {
      "text/plain": [
       "list"
      ]
     },
     "execution_count": 4,
     "metadata": {},
     "output_type": "execute_result"
    }
   ],
   "source": [
    "type(students)"
   ]
  },
  {
   "cell_type": "code",
   "execution_count": null,
   "id": "83d8f303",
   "metadata": {},
   "outputs": [],
   "source": []
  },
  {
   "cell_type": "code",
   "execution_count": null,
   "id": "bc7bbb2c",
   "metadata": {},
   "outputs": [],
   "source": [
    "Introduction to indexing"
   ]
  },
  {
   "cell_type": "code",
   "execution_count": null,
   "id": "dec34e18",
   "metadata": {},
   "outputs": [],
   "source": [
    "#req : I want to get the divya name "
   ]
  },
  {
   "cell_type": "code",
   "execution_count": 5,
   "id": "286d6545",
   "metadata": {},
   "outputs": [
    {
     "name": "stdout",
     "output_type": "stream",
     "text": [
      "divya\n"
     ]
    }
   ],
   "source": [
    "print(students[1])"
   ]
  },
  {
   "cell_type": "code",
   "execution_count": null,
   "id": "07f4f5b5",
   "metadata": {},
   "outputs": [],
   "source": [
    "# ahmed name"
   ]
  },
  {
   "cell_type": "code",
   "execution_count": 6,
   "id": "08aefeb8",
   "metadata": {},
   "outputs": [
    {
     "name": "stdout",
     "output_type": "stream",
     "text": [
      "ahmed\n"
     ]
    }
   ],
   "source": [
    "print(students[4])"
   ]
  },
  {
   "cell_type": "code",
   "execution_count": 7,
   "id": "d4cc9dce",
   "metadata": {},
   "outputs": [
    {
     "name": "stdout",
     "output_type": "stream",
     "text": [
      "Ahmed\n"
     ]
    }
   ],
   "source": [
    "print(students[4].title())"
   ]
  },
  {
   "cell_type": "code",
   "execution_count": 8,
   "id": "bc9c0b04",
   "metadata": {},
   "outputs": [
    {
     "name": "stdout",
     "output_type": "stream",
     "text": [
      "['ravi', 'divya', 'sadhiya', 'naveen', 'ahmed', 'suresh']\n"
     ]
    }
   ],
   "source": [
    "print(students)"
   ]
  },
  {
   "cell_type": "code",
   "execution_count": null,
   "id": "03859e93",
   "metadata": {},
   "outputs": [],
   "source": [
    "1. How to add new students (elements) to the list......?\n",
    "\n",
    "2. How to modify the students in the list....?\n",
    "\n",
    "3. How to delete the students in the list......?"
   ]
  },
  {
   "cell_type": "code",
   "execution_count": null,
   "id": "74b7eb5d",
   "metadata": {},
   "outputs": [],
   "source": []
  },
  {
   "cell_type": "code",
   "execution_count": null,
   "id": "08322c77",
   "metadata": {},
   "outputs": [],
   "source": [
    "#req : I want to add anand tothe above list"
   ]
  },
  {
   "cell_type": "code",
   "execution_count": 10,
   "id": "c6e5eb40",
   "metadata": {},
   "outputs": [
    {
     "name": "stdout",
     "output_type": "stream",
     "text": [
      "['ravi', 'divya', 'sadhiya', 'naveen', 'ahmed', 'suresh', 'anand', 'anand']\n"
     ]
    }
   ],
   "source": [
    "students.append(\"anand\")\n",
    "\n",
    "print(students)"
   ]
  },
  {
   "cell_type": "code",
   "execution_count": null,
   "id": "29443074",
   "metadata": {},
   "outputs": [],
   "source": [
    "#req : swathi"
   ]
  },
  {
   "cell_type": "code",
   "execution_count": 11,
   "id": "cb7d2449",
   "metadata": {},
   "outputs": [
    {
     "name": "stdout",
     "output_type": "stream",
     "text": [
      "['ravi', 'divya', 'sadhiya', 'naveen', 'ahmed', 'suresh', 'anand', 'anand', 'swathi']\n"
     ]
    }
   ],
   "source": [
    "students.append(\"swathi\")\n",
    "\n",
    "print(students)"
   ]
  },
  {
   "cell_type": "code",
   "execution_count": null,
   "id": "ddf93282",
   "metadata": {},
   "outputs": [],
   "source": [
    "#req : deepa ====> 2nd index"
   ]
  },
  {
   "cell_type": "code",
   "execution_count": 12,
   "id": "72580658",
   "metadata": {},
   "outputs": [
    {
     "name": "stdout",
     "output_type": "stream",
     "text": [
      "['ravi', 'divya', 'deepa', 'sadhiya', 'naveen', 'ahmed', 'suresh', 'anand', 'anand', 'swathi']\n"
     ]
    }
   ],
   "source": [
    "students.insert(2,\"deepa\")\n",
    "\n",
    "print(students)"
   ]
  },
  {
   "cell_type": "code",
   "execution_count": 13,
   "id": "42f0d7b9",
   "metadata": {},
   "outputs": [
    {
     "name": "stdout",
     "output_type": "stream",
     "text": [
      "Deepa\n"
     ]
    }
   ],
   "source": [
    "print(students[2].title())"
   ]
  },
  {
   "cell_type": "code",
   "execution_count": null,
   "id": "069ec197",
   "metadata": {},
   "outputs": [],
   "source": [
    "****Interview qn : What is the diff btw append and insert methods in the list datatype...?"
   ]
  },
  {
   "cell_type": "code",
   "execution_count": 14,
   "id": "a32f575b",
   "metadata": {},
   "outputs": [
    {
     "name": "stdout",
     "output_type": "stream",
     "text": [
      "['ravi', 'divya', 'deepa', 'sadhiya', 'naveen', 'ahmed', 'suresh', 'anand', 'anand', 'swathi']\n"
     ]
    }
   ],
   "source": [
    "print(students)"
   ]
  },
  {
   "cell_type": "code",
   "execution_count": null,
   "id": "9714a98a",
   "metadata": {},
   "outputs": [],
   "source": [
    "#req : I want to modify ravi name to raju....?"
   ]
  },
  {
   "cell_type": "code",
   "execution_count": 15,
   "id": "686893e8",
   "metadata": {},
   "outputs": [
    {
     "name": "stdout",
     "output_type": "stream",
     "text": [
      "['raju', 'divya', 'deepa', 'sadhiya', 'naveen', 'ahmed', 'suresh', 'anand', 'anand', 'swathi']\n"
     ]
    }
   ],
   "source": [
    "students[0] = \"raju\"\n",
    "\n",
    "print(students)"
   ]
  },
  {
   "cell_type": "code",
   "execution_count": null,
   "id": "fc9e2c66",
   "metadata": {},
   "outputs": [],
   "source": [
    "#req : I want to delete naveen"
   ]
  },
  {
   "cell_type": "code",
   "execution_count": 16,
   "id": "52927a76",
   "metadata": {},
   "outputs": [
    {
     "name": "stdout",
     "output_type": "stream",
     "text": [
      "['raju', 'divya', 'deepa', 'sadhiya', 'ahmed', 'suresh', 'anand', 'anand', 'swathi']\n"
     ]
    }
   ],
   "source": [
    "del students[4]  ===> permanent deleting\n",
    "\n",
    "print(students)"
   ]
  },
  {
   "cell_type": "code",
   "execution_count": null,
   "id": "91104fa9",
   "metadata": {},
   "outputs": [],
   "source": [
    "pop ===> By default it will be deleting the last element from the list and will be saving in the variable assigned."
   ]
  },
  {
   "cell_type": "code",
   "execution_count": 17,
   "id": "e8028c4e",
   "metadata": {},
   "outputs": [
    {
     "name": "stdout",
     "output_type": "stream",
     "text": [
      "['raju', 'divya', 'deepa', 'sadhiya', 'ahmed', 'suresh', 'anand', 'anand', 'swathi']\n"
     ]
    }
   ],
   "source": [
    "print(students)"
   ]
  },
  {
   "cell_type": "code",
   "execution_count": 18,
   "id": "2aa929a5",
   "metadata": {},
   "outputs": [
    {
     "name": "stdout",
     "output_type": "stream",
     "text": [
      "['raju', 'divya', 'deepa', 'sadhiya', 'ahmed', 'suresh', 'anand', 'anand']\n"
     ]
    }
   ],
   "source": [
    "x = students.pop()\n",
    "\n",
    "print(students)"
   ]
  },
  {
   "cell_type": "code",
   "execution_count": 19,
   "id": "65e53822",
   "metadata": {},
   "outputs": [
    {
     "name": "stdout",
     "output_type": "stream",
     "text": [
      "swathi\n"
     ]
    }
   ],
   "source": [
    "print(x)"
   ]
  },
  {
   "cell_type": "code",
   "execution_count": null,
   "id": "0f2f38d5",
   "metadata": {},
   "outputs": [],
   "source": [
    "****Interview qn : What is the diff btw delete and pop methods in the list datatype..."
   ]
  },
  {
   "cell_type": "code",
   "execution_count": null,
   "id": "ed562dec",
   "metadata": {},
   "outputs": [],
   "source": []
  },
  {
   "cell_type": "code",
   "execution_count": null,
   "id": "bbfe4709",
   "metadata": {},
   "outputs": [],
   "source": [
    "Introduction to negative indexing : -1,-2,-3....... : reverse indexing."
   ]
  },
  {
   "cell_type": "code",
   "execution_count": 20,
   "id": "eb231673",
   "metadata": {},
   "outputs": [
    {
     "name": "stdout",
     "output_type": "stream",
     "text": [
      "['raju', 'divya', 'deepa', 'sadhiya', 'ahmed', 'suresh', 'anand', 'anand']\n"
     ]
    }
   ],
   "source": [
    "print(students)"
   ]
  },
  {
   "cell_type": "code",
   "execution_count": 21,
   "id": "4766a516",
   "metadata": {},
   "outputs": [
    {
     "name": "stdout",
     "output_type": "stream",
     "text": [
      "anand\n"
     ]
    }
   ],
   "source": [
    "print(students[-1])"
   ]
  },
  {
   "cell_type": "code",
   "execution_count": 22,
   "id": "9b7c50c7",
   "metadata": {},
   "outputs": [
    {
     "name": "stdout",
     "output_type": "stream",
     "text": [
      "The Zen of Python, by Tim Peters\n",
      "\n",
      "Beautiful is better than ugly.\n",
      "Explicit is better than implicit.\n",
      "Simple is better than complex.\n",
      "Complex is better than complicated.\n",
      "Flat is better than nested.\n",
      "Sparse is better than dense.\n",
      "Readability counts.\n",
      "Special cases aren't special enough to break the rules.\n",
      "Although practicality beats purity.\n",
      "Errors should never pass silently.\n",
      "Unless explicitly silenced.\n",
      "In the face of ambiguity, refuse the temptation to guess.\n",
      "There should be one-- and preferably only one --obvious way to do it.\n",
      "Although that way may not be obvious at first unless you're Dutch.\n",
      "Now is better than never.\n",
      "Although never is often better than *right* now.\n",
      "If the implementation is hard to explain, it's a bad idea.\n",
      "If the implementation is easy to explain, it may be a good idea.\n",
      "Namespaces are one honking great idea -- let's do more of those!\n"
     ]
    }
   ],
   "source": [
    "import this"
   ]
  },
  {
   "cell_type": "code",
   "execution_count": null,
   "id": "72000dd7",
   "metadata": {},
   "outputs": [],
   "source": []
  }
 ],
 "metadata": {
  "kernelspec": {
   "display_name": "Python 3 (ipykernel)",
   "language": "python",
   "name": "python3"
  },
  "language_info": {
   "codemirror_mode": {
    "name": "ipython",
    "version": 3
   },
   "file_extension": ".py",
   "mimetype": "text/x-python",
   "name": "python",
   "nbconvert_exporter": "python",
   "pygments_lexer": "ipython3",
   "version": "3.9.13"
  }
 },
 "nbformat": 4,
 "nbformat_minor": 5
}
