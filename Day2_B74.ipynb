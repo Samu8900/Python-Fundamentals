{
 "cells": [
  {
   "cell_type": "code",
   "execution_count": null,
   "id": "9e646a06",
   "metadata": {},
   "outputs": [],
   "source": [
    "Understanding the variables in python :"
   ]
  },
  {
   "cell_type": "raw",
   "id": "110d5c0d",
   "metadata": {},
   "source": []
  },
  {
   "cell_type": "code",
   "execution_count": 2,
   "id": "5458cdf9",
   "metadata": {},
   "outputs": [],
   "source": [
    "x = 5\n",
    "\n",
    "y = 2"
   ]
  },
  {
   "cell_type": "code",
   "execution_count": 3,
   "id": "7727e37c",
   "metadata": {},
   "outputs": [
    {
     "name": "stdout",
     "output_type": "stream",
     "text": [
      "7\n"
     ]
    }
   ],
   "source": [
    "z = x+y\n",
    "\n",
    "print(z)"
   ]
  },
  {
   "cell_type": "code",
   "execution_count": null,
   "id": "02e99b34",
   "metadata": {},
   "outputs": [],
   "source": []
  },
  {
   "cell_type": "code",
   "execution_count": null,
   "id": "11045d0a",
   "metadata": {},
   "outputs": [],
   "source": [
    "Rules of using variables in python :"
   ]
  },
  {
   "cell_type": "code",
   "execution_count": null,
   "id": "ddd2168e",
   "metadata": {},
   "outputs": [],
   "source": []
  },
  {
   "cell_type": "code",
   "execution_count": null,
   "id": "7fbe401c",
   "metadata": {},
   "outputs": [],
   "source": [
    "Rule 1 : A variable name should not contain spaces **"
   ]
  },
  {
   "cell_type": "code",
   "execution_count": 4,
   "id": "c93024da",
   "metadata": {},
   "outputs": [
    {
     "ename": "SyntaxError",
     "evalue": "invalid syntax (4225983196.py, line 1)",
     "output_type": "error",
     "traceback": [
      "\u001b[1;36m  File \u001b[1;32m\"C:\\Users\\samue\\AppData\\Local\\Temp\\ipykernel_4012\\4225983196.py\"\u001b[1;36m, line \u001b[1;32m1\u001b[0m\n\u001b[1;33m    first name = \"Samuel\"\u001b[0m\n\u001b[1;37m          ^\u001b[0m\n\u001b[1;31mSyntaxError\u001b[0m\u001b[1;31m:\u001b[0m invalid syntax\n"
     ]
    }
   ],
   "source": [
    "first name = \"Samuel\"\n",
    "\n",
    "print(first name)"
   ]
  },
  {
   "cell_type": "code",
   "execution_count": 6,
   "id": "d6efe511",
   "metadata": {},
   "outputs": [
    {
     "name": "stdout",
     "output_type": "stream",
     "text": [
      "Samuel\n"
     ]
    }
   ],
   "source": [
    "firstname = \"Samuel\"\n",
    "\n",
    "print(firstname)"
   ]
  },
  {
   "cell_type": "code",
   "execution_count": 7,
   "id": "4c140d74",
   "metadata": {},
   "outputs": [
    {
     "name": "stdout",
     "output_type": "stream",
     "text": [
      "Samuel\n"
     ]
    }
   ],
   "source": [
    "first_name = \"Samuel\"\n",
    "\n",
    "print(first_name)"
   ]
  },
  {
   "cell_type": "code",
   "execution_count": null,
   "id": "a6e3dba7",
   "metadata": {},
   "outputs": [],
   "source": [
    "Rule 2 : A variable name should name start with a number **"
   ]
  },
  {
   "cell_type": "code",
   "execution_count": 8,
   "id": "ad043ee4",
   "metadata": {},
   "outputs": [
    {
     "ename": "SyntaxError",
     "evalue": "invalid syntax (1655150676.py, line 1)",
     "output_type": "error",
     "traceback": [
      "\u001b[1;36m  File \u001b[1;32m\"C:\\Users\\samue\\AppData\\Local\\Temp\\ipykernel_4012\\1655150676.py\"\u001b[1;36m, line \u001b[1;32m1\u001b[0m\n\u001b[1;33m    1name = \"Samuel\"\u001b[0m\n\u001b[1;37m     ^\u001b[0m\n\u001b[1;31mSyntaxError\u001b[0m\u001b[1;31m:\u001b[0m invalid syntax\n"
     ]
    }
   ],
   "source": [
    "1name = \"Samuel\"\n",
    "\n",
    "print(1name)"
   ]
  },
  {
   "cell_type": "code",
   "execution_count": 9,
   "id": "c7d56ac3",
   "metadata": {},
   "outputs": [
    {
     "name": "stdout",
     "output_type": "stream",
     "text": [
      "Samuel\n"
     ]
    }
   ],
   "source": [
    "name1 =\"Samuel\"\n",
    "\n",
    "print(name1)"
   ]
  },
  {
   "cell_type": "code",
   "execution_count": null,
   "id": "857fce6d",
   "metadata": {},
   "outputs": [],
   "source": [
    "Rule 3 : A variable name should not contain any special characters"
   ]
  },
  {
   "cell_type": "code",
   "execution_count": null,
   "id": "a9733417",
   "metadata": {},
   "outputs": [],
   "source": [
    "@ # $ % ^ &"
   ]
  },
  {
   "cell_type": "code",
   "execution_count": 10,
   "id": "d89f2dae",
   "metadata": {},
   "outputs": [
    {
     "ename": "SyntaxError",
     "evalue": "invalid syntax (4188223882.py, line 1)",
     "output_type": "error",
     "traceback": [
      "\u001b[1;36m  File \u001b[1;32m\"C:\\Users\\samue\\AppData\\Local\\Temp\\ipykernel_4012\\4188223882.py\"\u001b[1;36m, line \u001b[1;32m1\u001b[0m\n\u001b[1;33m    name@ = \"Samuel\"\u001b[0m\n\u001b[1;37m          ^\u001b[0m\n\u001b[1;31mSyntaxError\u001b[0m\u001b[1;31m:\u001b[0m invalid syntax\n"
     ]
    }
   ],
   "source": [
    "name@ = \"Samuel\"\n",
    "\n",
    "print(name@)"
   ]
  },
  {
   "cell_type": "code",
   "execution_count": null,
   "id": "c9d660a0",
   "metadata": {},
   "outputs": [],
   "source": [
    "Introduction to data types in python :\n",
    "    \n",
    "    1. strings ======> str\n",
    "    \n",
    "    2. lists ========> list\n",
    "    \n",
    "    3. numbers ======> integers (int) and float (decimals)\n",
    "    \n",
    "    4. tuples =======> tuple\n",
    "    \n",
    "    5. dictionaries ==> dict"
   ]
  },
  {
   "cell_type": "code",
   "execution_count": null,
   "id": "a9bc1fa9",
   "metadata": {},
   "outputs": [],
   "source": []
  },
  {
   "cell_type": "code",
   "execution_count": null,
   "id": "55deb3f4",
   "metadata": {},
   "outputs": [],
   "source": [
    "Classification of datatypes :\n",
    "    \n",
    "    Broadly data types are classified into two categories :\n",
    "        \n",
    "        1. mutable types ----> which we can edit or alter ----> flexible in nature\n",
    "        \n",
    "        2. immutable types ---> which we can't edit or alter ---> fixed in nature.    "
   ]
  },
  {
   "cell_type": "code",
   "execution_count": null,
   "id": "cf235e94",
   "metadata": {},
   "outputs": [],
   "source": []
  },
  {
   "cell_type": "code",
   "execution_count": null,
   "id": "24d326e9",
   "metadata": {},
   "outputs": [],
   "source": [
    "Introduction to string datatype :\n",
    "    \n",
    "    Definition : A string is series of characters declared in quotes\n",
    "        \n",
    "    Classification : It is classified as an immutable datatype\n",
    "        \n",
    "    how to declare the string datatype ----------?\n",
    "    \n",
    "    2 approaches\n",
    "    \n",
    "    1. single quote\n",
    "    \n",
    "    2. double quote"
   ]
  },
  {
   "cell_type": "code",
   "execution_count": null,
   "id": "eae63d64",
   "metadata": {},
   "outputs": [],
   "source": []
  },
  {
   "cell_type": "code",
   "execution_count": 11,
   "id": "2bf9dcd5",
   "metadata": {},
   "outputs": [
    {
     "name": "stdout",
     "output_type": "stream",
     "text": [
      "Samuel\n"
     ]
    }
   ],
   "source": [
    "name = 'Samuel'\n",
    "\n",
    "print(name)"
   ]
  },
  {
   "cell_type": "code",
   "execution_count": 12,
   "id": "f9759f5f",
   "metadata": {},
   "outputs": [
    {
     "name": "stdout",
     "output_type": "stream",
     "text": [
      "Samuel\n"
     ]
    }
   ],
   "source": [
    "name2 = \"Samuel\"\n",
    "\n",
    "print(name2)"
   ]
  },
  {
   "cell_type": "code",
   "execution_count": null,
   "id": "22d3b823",
   "metadata": {},
   "outputs": [],
   "source": []
  },
  {
   "cell_type": "code",
   "execution_count": null,
   "id": "02da9198",
   "metadata": {},
   "outputs": [],
   "source": [
    "Introduction to string methods :"
   ]
  },
  {
   "cell_type": "code",
   "execution_count": null,
   "id": "d57adcb8",
   "metadata": {},
   "outputs": [],
   "source": [
    "    methods are nothing but buit-in programs that are available in python to use directly."
   ]
  },
  {
   "cell_type": "code",
   "execution_count": 13,
   "id": "086d4e7e",
   "metadata": {},
   "outputs": [
    {
     "data": {
      "text/plain": [
       "str"
      ]
     },
     "execution_count": 13,
     "metadata": {},
     "output_type": "execute_result"
    }
   ],
   "source": [
    "type(name)"
   ]
  },
  {
   "cell_type": "code",
   "execution_count": 14,
   "id": "8d8970b9",
   "metadata": {},
   "outputs": [
    {
     "data": {
      "text/plain": [
       "str"
      ]
     },
     "execution_count": 14,
     "metadata": {},
     "output_type": "execute_result"
    }
   ],
   "source": [
    "type(name2)"
   ]
  },
  {
   "cell_type": "code",
   "execution_count": null,
   "id": "4e68dbf2",
   "metadata": {},
   "outputs": [],
   "source": []
  },
  {
   "cell_type": "code",
   "execution_count": 15,
   "id": "7b90f669",
   "metadata": {},
   "outputs": [
    {
     "name": "stdout",
     "output_type": "stream",
     "text": [
      "bhanu chandra\n"
     ]
    }
   ],
   "source": [
    "fullname = \"bhanu chandra\"\n",
    "\n",
    "print(fullname)"
   ]
  },
  {
   "cell_type": "code",
   "execution_count": null,
   "id": "6b5cea41",
   "metadata": {},
   "outputs": [],
   "source": [
    "# req : to get in right format"
   ]
  },
  {
   "cell_type": "code",
   "execution_count": 16,
   "id": "a45f7cc0",
   "metadata": {},
   "outputs": [
    {
     "name": "stdout",
     "output_type": "stream",
     "text": [
      "Bhanu Chandra\n"
     ]
    }
   ],
   "source": [
    "print(fullname.title())"
   ]
  },
  {
   "cell_type": "code",
   "execution_count": null,
   "id": "21eb14d2",
   "metadata": {},
   "outputs": [],
   "source": [
    "# req : to get in capital letters"
   ]
  },
  {
   "cell_type": "code",
   "execution_count": 17,
   "id": "81230923",
   "metadata": {},
   "outputs": [
    {
     "name": "stdout",
     "output_type": "stream",
     "text": [
      "BHANU CHANDRA\n"
     ]
    }
   ],
   "source": [
    "print(fullname.upper())"
   ]
  },
  {
   "cell_type": "code",
   "execution_count": null,
   "id": "17b25036",
   "metadata": {},
   "outputs": [],
   "source": [
    "# req : to get in small letters"
   ]
  },
  {
   "cell_type": "code",
   "execution_count": 18,
   "id": "74979b2f",
   "metadata": {},
   "outputs": [
    {
     "name": "stdout",
     "output_type": "stream",
     "text": [
      "bhanu chandra\n"
     ]
    }
   ],
   "source": [
    "print(fullname.lower())"
   ]
  }
 ],
 "metadata": {
  "kernelspec": {
   "display_name": "Python 3 (ipykernel)",
   "language": "python",
   "name": "python3"
  },
  "language_info": {
   "codemirror_mode": {
    "name": "ipython",
    "version": 3
   },
   "file_extension": ".py",
   "mimetype": "text/x-python",
   "name": "python",
   "nbconvert_exporter": "python",
   "pygments_lexer": "ipython3",
   "version": "3.9.13"
  }
 },
 "nbformat": 4,
 "nbformat_minor": 5
}
